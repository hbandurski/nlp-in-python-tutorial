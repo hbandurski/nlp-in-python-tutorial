{
 "cells": [
  {
   "cell_type": "markdown",
   "metadata": {},
   "source": [
    "### INSTALL NECESSARY PACKAGES"
   ]
  },
  {
   "cell_type": "markdown",
   "metadata": {},
   "source": [
    "ctrl + / to comment/uncomment certain lines\n",
    "\n",
    "Shift+Enter to run a particular cell.\n",
    "\n",
    "\n",
    "Good regular expression website https://regex101.com"
   ]
  },
  {
   "cell_type": "code",
   "execution_count": 1,
   "metadata": {},
   "outputs": [],
   "source": [
    "import sys\n",
    "import subprocess"
   ]
  },
  {
   "cell_type": "code",
   "execution_count": 2,
   "metadata": {},
   "outputs": [
    {
     "name": "stdout",
     "output_type": "stream",
     "text": [
      "Available kernels:\r\n",
      "  python3    /Users/hubertbandurski/opt/anaconda3/share/jupyter/kernels/python3\r\n"
     ]
    }
   ],
   "source": [
    "!jupyter kernelspec list"
   ]
  },
  {
   "cell_type": "code",
   "execution_count": 17,
   "metadata": {},
   "outputs": [
    {
     "name": "stdout",
     "output_type": "stream",
     "text": [
      "Stored 'installed_packages' (list)\n",
      "['aiohttp', '@', 'file:///Users/runner/miniforge3/conda-bld/aiohttp_1614281151354/work', 'alabaster', 'anaconda-client', 'anaconda-navigator', 'anaconda-project', 'applaunchservices', 'appnope', '@', 'file:///opt/concourse/worker/volumes/live/0291c9e1-4b15-459f-623e-2770f55be269/volume/appnope_1594338395037/work', 'appscript', '@', 'file:///opt/concourse/worker/volumes/live/50ca4c96-3090-40bb-6981-3a6114ed0af4/volume/appscript_1594840187551/work', 'argh', 'argon2-cffi', '@', 'file:///opt/concourse/worker/volumes/live/59af29ac-4890-416e-7ab7-794f8d6f7ecd/volume/argon2-cffi_1596828548321/work', 'asn1crypto', '@', 'file:///tmp/build/80754af9/asn1crypto_1596577642040/work', 'astroid', '@', 'file:///opt/concourse/worker/volumes/live/21fd14a9-2a7e-484b-7394-5a9912cdcf80/volume/astroid_1592498459180/work', 'astropy', 'async-generator', 'async-timeout', 'atomicwrites', 'attrs', '@', 'file:///tmp/build/80754af9/attrs_1604765588209/work', 'autopep8', '@', 'file:///tmp/build/80754af9/autopep8_1596578164842/work', 'azure-common', '@', 'file:///home/conda/feedstock_root/build_artifacts/azure-common_1616832252463/work', 'azure-core', '@', 'file:///home/conda/feedstock_root/build_artifacts/azure-core_1615392208077/work', 'azure-storage-blob', '@', 'file:///home/conda/feedstock_root/build_artifacts/azure-storage-blob_1614679045153/work', 'Babel', '@', 'file:///tmp/build/80754af9/babel_1605108370292/work', 'backcall', 'backports.functools-lru-cache', '@', 'file:///tmp/build/80754af9/backports.functools_lru_cache_1605305165209/work', 'backports.shutil-get-terminal-size', 'backports.tempfile', '@', 'file:///home/linux1/recipes/ci/backports.tempfile_1610991236607/work', 'backports.weakref', 'beautifulsoup4', '@', 'file:///tmp/build/80754af9/beautifulsoup4_1601924105527/work', 'bitarray', '@', 'file:///opt/concourse/worker/volumes/live/fdfca23e-4dd8-48f7-512d-c4f3db552eeb/volume/bitarray_1605065128338/work', 'bkcharts', 'bleach', '@', 'file:///tmp/build/80754af9/bleach_1600439572647/work', 'blinker', 'bokeh', '@', 'file:///opt/concourse/worker/volumes/live/b2253281-9b72-4dcb-624e-e22924b50435/volume/bokeh_1603297849453/work', 'boto', 'boto3', '@', 'file:///home/conda/feedstock_root/build_artifacts/boto3_1618014561223/work', 'botocore', '@', 'file:///home/conda/feedstock_root/build_artifacts/botocore_1618011145910/work', 'Bottleneck', 'brotlipy', 'cachetools', '@', 'file:///home/conda/feedstock_root/build_artifacts/cachetools_1611555765219/work', 'certifi', 'cffi', '@', 'file:///opt/concourse/worker/volumes/live/b9607b09-b777-4ff7-53dc-287727eb8574/volume/cffi_1600699191154/work', 'chardet', 'click', 'cloudpickle', '@', 'file:///tmp/build/80754af9/cloudpickle_1598884132938/work', 'clyent', 'colorama', '@', 'file:///tmp/build/80754af9/colorama_1603211150991/work', 'conda', 'conda-build', 'conda-package-handling', '@', 'file:///opt/concourse/worker/volumes/live/a7e34989-4c54-4cb6-4156-4e58ee270730/volume/conda-package-handling_1603018121300/work', 'conda-verify', 'contextlib2', 'cryptography', '@', 'file:///opt/concourse/worker/volumes/live/aeb63a26-659e-4edb-5405-74ba8e0c76f2/volume/cryptography_1601046839724/work', 'cycler', 'Cython', '@', 'file:///opt/concourse/worker/volumes/live/6158b663-a4ca-4e19-7e05-8807e4f79146/volume/cython_1594835048880/work', 'cytoolz', 'dask', '@', 'file:///tmp/build/80754af9/dask-core_1602083700509/work', 'decorator', 'defusedxml', 'diff-match-patch', '@', 'file:///tmp/build/80754af9/diff-match-patch_1594828741838/work', 'distributed', '@', 'file:///opt/concourse/worker/volumes/live/bd66aa48-5cf5-4b60-6ed4-f204fff153f6/volume/distributed_1605066538557/work', 'docutils', 'entrypoints', 'et-xmlfile', 'face-alignment', 'fastcache', 'filelock', 'flake8', '@', 'file:///tmp/build/80754af9/flake8_1601911421857/work', 'Flask', 'fsspec', '@', 'file:///tmp/build/80754af9/fsspec_1602684995936/work', 'future', 'gensim', '@', 'file:///Users/runner/miniforge3/conda-bld/gensim_1589441204121/work', 'gevent', '@', 'file:///opt/concourse/worker/volumes/live/e6b243ce-c4b8-40bb-4934-ef3bf1c512f2/volume/gevent_1601397552921/work', 'glob2', 'gmpy2', 'google-api-core', '@', 'file:///home/conda/feedstock_root/build_artifacts/google-api-core-split_1616709747968/work', 'google-auth', '@', 'file:///home/conda/feedstock_root/build_artifacts/google-auth_1616708961589/work', 'google-cloud-core', 'google-cloud-storage', '@', 'file:///home/conda/feedstock_root/build_artifacts/google-cloud-storage_1596032458250/work', 'google-crc32c', '@', 'file:///Users/runner/miniforge3/conda-bld/google-crc32c_1611954283050/work', 'google-resumable-media', '@', 'file:///home/conda/feedstock_root/build_artifacts/google-resumable-media_1608141079349/work', 'googleapis-common-protos', '@', 'file:///Users/runner/miniforge3/conda-bld/googleapis-common-protos-feedstock_1616710809330/work', 'greenlet', '@', 'file:///opt/concourse/worker/volumes/live/02d5d57d-1f11-4cf9-580a-19e679c78dc9/volume/greenlet_1600874049903/work', 'h5py', 'HeapDict', 'html5lib', '@', 'file:///tmp/build/80754af9/html5lib_1593446221756/work', 'idna', '@', 'file:///tmp/build/80754af9/idna_1593446292537/work', 'imageio', '@', 'file:///tmp/build/80754af9/imageio_1594161405741/work', 'imageio-ffmpeg', 'imagesize', 'importlib-metadata', '@', 'file:///tmp/build/80754af9/importlib-metadata_1602276842396/work', 'iniconfig', '@', 'file:///tmp/build/80754af9/iniconfig_1602780191262/work', 'intervaltree', '@', 'file:///tmp/build/80754af9/intervaltree_1598376443606/work', 'ipykernel', '@', 'file:///opt/concourse/worker/volumes/live/88f541d3-5a27-498f-7391-f2e50ca36560/volume/ipykernel_1596206680118/work/dist/ipykernel-5.3.4-py3-none-any.whl', 'ipython', '@', 'file:///opt/concourse/worker/volumes/live/26969e8f-c9f7-42dc-6ffb-b3effd424c49/volume/ipython_1604101242376/work', 'ipython-genutils', 'ipywidgets', '@', 'file:///tmp/build/80754af9/ipywidgets_1601490159889/work', 'isodate', 'isort', '@', 'file:///tmp/build/80754af9/isort_1602603989581/work', 'itsdangerous', 'jdcal', 'jedi', '@', 'file:///opt/concourse/worker/volumes/live/1c5c293b-9147-4b4b-5a7f-d3f5eddb8470/volume/jedi_1592841952519/work', 'Jinja2', 'jmespath', '@', 'file:///home/conda/feedstock_root/build_artifacts/jmespath_1589369830981/work', 'joblib', '@', 'file:///tmp/build/80754af9/joblib_1601912903842/work', 'json5', 'jsonschema', '@', 'file:///tmp/build/80754af9/jsonschema_1602607155483/work', 'jupyter', 'jupyter-client', '@', 'file:///tmp/build/80754af9/jupyter_client_1601311786391/work', 'jupyter-console', '@', 'file:///tmp/build/80754af9/jupyter_console_1598884538475/work', 'jupyter-core', 'jupyterlab', 'jupyterlab-pygments', '@', 'file:///tmp/build/80754af9/jupyterlab_pygments_1601490720602/work', 'jupyterlab-server', '@', 'file:///tmp/build/80754af9/jupyterlab_server_1594164409481/work', 'keyring', '@', 'file:///opt/concourse/worker/volumes/live/54fc3ec2-338b-44f5-5e13-d62afa6b5820/volume/keyring_1601490916376/work', 'kiwisolver', '@', 'file:///opt/concourse/worker/volumes/live/b8936fa6-0e4b-47e7-4fb4-e02dbd4505ee/volume/kiwisolver_1604014598721/work', 'lazy-object-proxy', 'libarchive-c', 'llvmlite', 'locket', 'lxml', '@', 'file:///opt/concourse/worker/volumes/live/9351a723-931c-40fa-7baa-f2f468cdccf6/volume/lxml_1603216287330/work', 'MarkupSafe', '@', 'file:///opt/concourse/worker/volumes/live/cb778296-98db-45ad-411e-6f726e102dc3/volume/markupsafe_1594371638608/work', 'matplotlib', '@', 'file:///opt/concourse/worker/volumes/live/f7797860-f8aa-410c-4a56-72315954816b/volume/matplotlib-base_1603378002957/work', 'mccabe', 'mistune', '@', 'file:///opt/concourse/worker/volumes/live/95802d64-d39c-491b-74ce-b9326880ca54/volume/mistune_1594373201816/work', 'mkl-fft', 'mkl-random', 'mkl-service', 'mock', 'more-itertools', '@', 'file:///tmp/build/80754af9/more-itertools_1605111547926/work', 'mpmath', 'msgpack', 'msrest', '@', 'file:///home/conda/feedstock_root/build_artifacts/msrest_1611725634474/work', 'multidict', '@', 'file:///Users/runner/miniforge3/conda-bld/multidict_1610319065069/work', 'multipledispatch', 'navigator-updater', 'nbclient', '@', 'file:///tmp/build/80754af9/nbclient_1602783176460/work', 'nbconvert', '@', 'file:///opt/concourse/worker/volumes/live/2b9c1d93-d0fd-432f-7d93-66c93d81b614/volume/nbconvert_1601914875037/work', 'nbformat', '@', 'file:///tmp/build/80754af9/nbformat_1602783287752/work', 'nest-asyncio', '@', 'file:///tmp/build/80754af9/nest-asyncio_1605115881283/work', 'networkx', '@', 'file:///tmp/build/80754af9/networkx_1598376031484/work', 'nltk', '@', 'file:///tmp/build/80754af9/nltk_1592496090529/work', 'nose', '@', 'file:///opt/concourse/worker/volumes/live/a029938e-1732-4cd8-5b98-0542283d158b/volume/nose_1594377915100/work', 'notebook', '@', 'file:///opt/concourse/worker/volumes/live/be0f3504-189d-4bae-4e57-c5d6da73ffcd/volume/notebook_1601501605350/work', 'numba', '@', 'file:///opt/concourse/worker/volumes/live/ae24c1ca-d916-4043-5919-a843fa33e451/volume/numba_1600084276085/work', 'numexpr', 'numpy', '@', 'file:///opt/concourse/worker/volumes/live/5572694e-967a-4c0c-52cf-b53d43e72de9/volume/numpy_and_numpy_base_1603491881791/work', 'numpydoc', '@', 'file:///tmp/build/80754af9/numpydoc_1605117425582/work', 'oauthlib', 'olefile', 'opencv-python', 'openpyxl', '@', 'file:///tmp/build/80754af9/openpyxl_1598113097404/work', 'packaging', 'pandas', '@', 'file:///opt/concourse/worker/volumes/live/f14cf8c4-c564-4eff-4b17-158e90dbf88a/volume/pandas_1602088128240/work', 'pandocfilters', '@', 'file:///opt/concourse/worker/volumes/live/c330e404-216d-466b-5327-8ce8fe854d3a/volume/pandocfilters_1605120442288/work', 'parso', 'partd', 'path', '@', 'file:///opt/concourse/worker/volumes/live/fcdf620c-46d6-4284-4c1e-5b8c3bc6c5c6/volume/path_1596907417277/work', 'pathlib2', '@', 'file:///opt/concourse/worker/volumes/live/de518564-0d9f-405e-472b-38136f0c2169/volume/pathlib2_1594381084269/work', 'pathtools', 'patsy', 'pep8', 'pexpect', '@', 'file:///opt/concourse/worker/volumes/live/8701bb20-ad87-46c7-5108-30c178cf97e5/volume/pexpect_1594383388344/work', 'pickleshare', '@', 'file:///opt/concourse/worker/volumes/live/93ec39d8-05bb-4f84-7efc-98735bc39b70/volume/pickleshare_1594384101884/work', 'Pillow', '@', 'file:///opt/concourse/worker/volumes/live/991b9a87-3372-4acd-45f9-eaa52701f03c/volume/pillow_1603822262543/work', 'pkginfo', 'pluggy', 'ply', 'prometheus-client', 'prompt-toolkit', '@', 'file:///tmp/build/80754af9/prompt-toolkit_1602688806899/work', 'protobuf', 'psutil', '@', 'file:///opt/concourse/worker/volumes/live/ff72f822-991c-4030-4f3a-8c41d3ac4e4f/volume/psutil_1598370232375/work', 'ptyprocess', 'py', '@', 'file:///tmp/build/80754af9/py_1593446248552/work', 'pyasn1', 'pyasn1-modules', 'pycodestyle', 'pycosat', 'pycparser', '@', 'file:///tmp/build/80754af9/pycparser_1594388511720/work', 'pycurl', 'pydocstyle', '@', 'file:///tmp/build/80754af9/pydocstyle_1598885001695/work', 'pyflakes', 'Pygments', '@', 'file:///tmp/build/80754af9/pygments_1604103097372/work', 'PyJWT', '@', 'file:///home/conda/feedstock_root/build_artifacts/pyjwt_1610910308735/work', 'pylint', '@', 'file:///opt/concourse/worker/volumes/live/ed0164b6-bcc7-4f6b-7dd4-ad89660b5dcb/volume/pylint_1598624018129/work', 'pyodbc', 'pyOpenSSL', '@', 'file:///tmp/build/80754af9/pyopenssl_1594392929924/work', 'pyparsing', 'PyQt5', 'PyQt5-sip', 'PyQt6', 'PyQt6-Qt', 'PyQt6-sip', 'PyQtWebEngine', 'pyrsistent', '@', 'file:///opt/concourse/worker/volumes/live/ff11f3f0-615b-4508-471d-4d9f19fa6657/volume/pyrsistent_1600141727281/work', 'PySocks', '@', 'file:///opt/concourse/worker/volumes/live/85a5b906-0e08-41d9-6f59-084cee4e9492/volume/pysocks_1594394636991/work', 'pytest', 'python-dateutil', 'python-jsonrpc-server', '@', 'file:///tmp/build/80754af9/python-jsonrpc-server_1600278539111/work', 'python-language-server', '@', 'file:///tmp/build/80754af9/python-language-server_1600454544709/work', 'pytz', 'PyWavelets', '@', 'file:///opt/concourse/worker/volumes/live/ea36e10f-66e8-43ae-511e-c4092764493f/volume/pywavelets_1601658378672/work', 'PyYAML', 'pyzmq', 'QDarkStyle', 'QtAwesome', '@', 'file:///tmp/build/80754af9/qtawesome_1602272867890/work', 'qtconsole', '@', 'file:///tmp/build/80754af9/qtconsole_1600870028330/work', 'QtPy', 'regex', '@', 'file:///opt/concourse/worker/volumes/live/7f106f75-0e11-45be-4c20-6b071e37c646/volume/regex_1602786678165/work', 'requests', '@', 'file:///tmp/build/80754af9/requests_1592841827918/work', 'requests-oauthlib', '@', 'file:///home/conda/feedstock_root/build_artifacts/requests-oauthlib_1595492159598/work', 'rope', '@', 'file:///tmp/build/80754af9/rope_1602264064449/work', 'rsa', '@', 'file:///home/conda/feedstock_root/build_artifacts/rsa_1614171254180/work', 'Rtree', 'ruamel-yaml', 's3transfer', '@', 'file:///home/conda/feedstock_root/build_artifacts/s3transfer_1616166519874/work', 'scikit-image', 'scikit-learn', '@', 'file:///opt/concourse/worker/volumes/live/111833a2-339b-4578-413b-7337bb8fe64a/volume/scikit-learn_1598376920601/work', 'scipy', '@', 'file:///opt/concourse/worker/volumes/live/851446f6-a052-41c4-4243-67bb78999b49/volume/scipy_1604596178167/work', 'seaborn', '@', 'file:///tmp/build/80754af9/seaborn_1600553570093/work', 'Send2Trash', 'simplegeneric', 'singledispatch', '@', 'file:///tmp/build/80754af9/singledispatch_1602523705405/work', 'six', '@', 'file:///opt/concourse/worker/volumes/live/5b31cb27-1e37-4ca5-6e9f-86246eb206d2/volume/six_1605205320872/work', 'smart-open', '@', 'file:///home/conda/feedstock_root/build_artifacts/smart_open_1617772383064/work', 'snowballstemmer', 'sortedcollections', 'sortedcontainers', 'soupsieve', 'Sphinx', '@', 'file:///tmp/build/80754af9/sphinx_1597428793432/work', 'sphinxcontrib-applehelp', 'sphinxcontrib-devhelp', 'sphinxcontrib-htmlhelp', 'sphinxcontrib-jsmath', 'sphinxcontrib-qthelp', 'sphinxcontrib-serializinghtml', 'sphinxcontrib-websupport', '@', 'file:///tmp/build/80754af9/sphinxcontrib-websupport_1597081412696/work', 'spyder', '@', 'file:///opt/concourse/worker/volumes/live/93f52c11-6bc0-49a8-541e-aa5e1de1eadc/volume/spyder_1599056974853/work', 'spyder-kernels', '@', 'file:///opt/concourse/worker/volumes/live/b4ec5b57-5b3c-42d0-7731-c0691f88ee81/volume/spyder-kernels_1599056790993/work', 'SQLAlchemy', '@', 'file:///opt/concourse/worker/volumes/live/0214475e-3c0a-49a9-6cb8-ab2d5c945bef/volume/sqlalchemy_1603812264100/work', 'statsmodels', '@', 'file:///opt/concourse/worker/volumes/live/148a0e6d-2163-4103-6ef5-61556693c052/volume/statsmodels_1602280229372/work', 'sympy', '@', 'file:///opt/concourse/worker/volumes/live/d5d0b33b-5c2f-493b-5b67-8149e5531868/volume/sympy_1605119535834/work', 'tables', 'tblib', '@', 'file:///tmp/build/80754af9/tblib_1597928476713/work', 'terminado', 'testpath', 'textblob', 'threadpoolctl', '@', 'file:///tmp/tmp9twdgx9k/threadpoolctl-2.1.0-py3-none-any.whl', 'tifffile', 'toml', '@', 'file:///tmp/build/80754af9/toml_1592853716807/work', 'toolz', '@', 'file:///tmp/build/80754af9/toolz_1601054250827/work', 'torch', 'torchaudio', 'torchvision', 'tornado', 'tqdm', '@', 'file:///tmp/build/80754af9/tqdm_1602185206534/work', 'traitlets', '@', 'file:///tmp/build/80754af9/traitlets_1602787416690/work', 'typing-extensions', '@', 'file:///tmp/build/80754af9/typing_extensions_1598376058250/work', 'ujson', '@', 'file:///opt/concourse/worker/volumes/live/2fc9988c-ebca-4577-6c4b-7383ea76e8ee/volume/ujson_1602523306974/work', 'unicodecsv', 'urllib3', '@', 'file:///tmp/build/80754af9/urllib3_1603305693037/work', 'watchdog', '@', 'file:///opt/concourse/worker/volumes/live/cc0ee7bb-1065-44c4-5867-0fd5d13729e0/volume/watchdog_1593447373245/work', 'wcwidth', '@', 'file:///tmp/build/80754af9/wcwidth_1593447189090/work', 'webencodings', 'Werkzeug', 'widgetsnbextension', 'wordcloud', '@', 'file:///Users/runner/miniforge3/conda-bld/wordcloud_1610647009968/work', 'wrapt', 'wurlitzer', '@', 'file:///opt/concourse/worker/volumes/live/01a17f3d-eafe-4806-57a1-4b9ef5d1815f/volume/wurlitzer_1594753845129/work', 'xlrd', 'XlsxWriter', '@', 'file:///tmp/build/80754af9/xlsxwriter_1602692860603/work', 'xlwings', 'xlwt', 'xmltodict', 'yapf', '@', 'file:///tmp/build/80754af9/yapf_1593528177422/work', 'yarl', '@', 'file:///Users/runner/miniforge3/conda-bld/yarl_1610354259068/work', 'zict', 'zipp', '@', 'file:///tmp/build/80754af9/zipp_1604001098328/work', 'zope.event', 'zope.interface', '@', 'file:///opt/concourse/worker/volumes/live/de428e3b-00ba-4161-442e-b9e5d25e4219/volume/zope.interface_1602002489816/work']\n"
     ]
    }
   ],
   "source": [
    "reqs = subprocess.check_output([sys.executable, '-m', 'pip', 'freeze'])\n",
    "installed_packages = [r.decode().split('==')[0] for r in reqs.split()]\n",
    "%store installed_packages\n",
    "print(installed_packages)"
   ]
  },
  {
   "cell_type": "code",
   "execution_count": 6,
   "metadata": {},
   "outputs": [
    {
     "name": "stdout",
     "output_type": "stream",
     "text": [
      "Wordcloud is installed\n",
      "Textblob is installed. Allows for text polarity and subjectivity classification.\n",
      "Gensim is installed. Allows for unsupervised topic modeling.\n",
      "Numpy is installed. Allows for large, multi-dimentional arrays and metrices and math around it. \n"
     ]
    }
   ],
   "source": [
    "#wordcloud is used to group words as a word cloud\n",
    "if 'wordcloud' in installed_packages:\n",
    "    print(\"Wordcloud is installed. It groups words into a cloud.\")\n",
    "else:\n",
    "    print('Installing wordcloud for grouping words into a cloud.')\n",
    "    !conda install --yes --prefix {sys.prefix} -c conda-forge wordcloud\n",
    "\n",
    "#textblog returns polarity and subjectivity (part of a sentiment analysis)\n",
    "if 'textblob' in installed_packages:\n",
    "    print(\"Textblob is installed. Allows for text polarity and subjectivity classification.\")\n",
    "else:\n",
    "    print(\"Installing textblob for text polarity and subjectivity classification...\")\n",
    "    !conda install --yes --prefix {sys.prefix} -c conda-forge textblob\n",
    "\n",
    "#Gensim is a library for unsupervised topic modeling \n",
    "if 'gensim' in installed_packages:\n",
    "    print(\"Gensim is installed. Allows for unsupervised topic modeling.\")\n",
    "else:\n",
    "    print(\"Installing gensis for unsupervised topic modeling...\")\n",
    "    !conda install --yes --prefix {sys.prefix} -c conda-forge gensim\n",
    "\n",
    "#Numpy adds support for large, multi-dimensional arrays and matrices, along with a large collection of high-level mathematical functions to operate on these arrays\n",
    "if 'numpy' in installed_packages:\n",
    "    print(\"Numpy is installed. Allows for large, multi-dimentional arrays and metrices and math around it. \")\n",
    "else:\n",
    "    print(\"Installing numpy for working with large, multi-dimentional arrays and metrices and math around it\")\n",
    "    !conda install --yes --prefix {sys.prefix} -c conda-forge numpy"
   ]
  },
  {
   "cell_type": "code",
   "execution_count": 16,
   "metadata": {},
   "outputs": [],
   "source": [
    "def test_fun():\n",
    "    print(\"Hello test\")"
   ]
  },
  {
   "cell_type": "code",
   "execution_count": null,
   "metadata": {},
   "outputs": [],
   "source": []
  }
 ],
 "metadata": {
  "kernelspec": {
   "display_name": "Python 3",
   "language": "python",
   "name": "python3"
  },
  "language_info": {
   "codemirror_mode": {
    "name": "ipython",
    "version": 3
   },
   "file_extension": ".py",
   "mimetype": "text/x-python",
   "name": "python",
   "nbconvert_exporter": "python",
   "pygments_lexer": "ipython3",
   "version": "3.8.5"
  },
  "toc": {
   "nav_menu": {},
   "number_sections": true,
   "sideBar": true,
   "skip_h1_title": false,
   "toc_cell": false,
   "toc_position": {},
   "toc_section_display": "block",
   "toc_window_display": false
  },
  "varInspector": {
   "cols": {
    "lenName": 16,
    "lenType": 16,
    "lenVar": 40
   },
   "kernels_config": {
    "python": {
     "delete_cmd_postfix": "",
     "delete_cmd_prefix": "del ",
     "library": "var_list.py",
     "varRefreshCmd": "print(var_dic_list())"
    },
    "r": {
     "delete_cmd_postfix": ") ",
     "delete_cmd_prefix": "rm(",
     "library": "var_list.r",
     "varRefreshCmd": "cat(var_dic_list()) "
    }
   },
   "types_to_exclude": [
    "module",
    "function",
    "builtin_function_or_method",
    "instance",
    "_Feature"
   ],
   "window_display": false
  }
 },
 "nbformat": 4,
 "nbformat_minor": 2
}
